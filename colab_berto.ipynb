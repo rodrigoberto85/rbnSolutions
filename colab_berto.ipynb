{
  "nbformat": 4,
  "nbformat_minor": 0,
  "metadata": {
    "colab": {
      "name": "colab_berto.ipynb",
      "provenance": [],
      "authorship_tag": "ABX9TyN0DboOGr1CI5tDhJWbja94"
    },
    "kernelspec": {
      "name": "python3",
      "display_name": "Python 3"
    }
  },
  "cells": [
    {
      "cell_type": "code",
      "metadata": {
        "id": "2BzmEUdqRRap",
        "colab_type": "code",
        "colab": {}
      },
      "source": [
        "import tensorflow as tf\n",
        "\n",
        "import pandas as pd"
      ],
      "execution_count": 6,
      "outputs": []
    },
    {
      "cell_type": "code",
      "metadata": {
        "id": "mwGm0_GkSTLh",
        "colab_type": "code",
        "colab": {}
      },
      "source": [
        "CSV_COLUMN_NAMES = ['SepalLength', 'SepalWidth', 'PetalLength', 'PetalWidth', 'Species']\n",
        "SPECIES = ['Setosa', 'Versicolor', 'Virginica']\n",
        "\n"
      ],
      "execution_count": 7,
      "outputs": []
    },
    {
      "cell_type": "code",
      "metadata": {
        "id": "sr0-Bnc6SYbd",
        "colab_type": "code",
        "colab": {
          "base_uri": "https://localhost:8080/",
          "height": 105
        },
        "outputId": "2ae5b612-375b-448f-ef37-c8c8d209d958"
      },
      "source": [
        "train_path = tf.keras.utils.get_file(\n",
        "    \"iris_training.csv\", \"https://storage.googleapis.com/download.tensorflow.org/data/iris_training.csv\")\n",
        "test_path = tf.keras.utils.get_file(\n",
        "    \"iris_test.csv\", \"https://storage.googleapis.com/download.tensorflow.org/data/iris_test.csv\")\n",
        "\n",
        "train = pd.read_csv(train_path, names=CSV_COLUMN_NAMES, header=0)\n",
        "test = pd.read_csv(test_path, names=CSV_COLUMN_NAMES, header=0)"
      ],
      "execution_count": 8,
      "outputs": [
        {
          "output_type": "stream",
          "text": [
            "Downloading data from https://storage.googleapis.com/download.tensorflow.org/data/iris_training.csv\n",
            "8192/2194 [================================================================================================================] - 0s 0us/step\n",
            "Downloading data from https://storage.googleapis.com/download.tensorflow.org/data/iris_test.csv\n",
            "8192/573 [============================================================================================================================================================================================================================================================================================================================================================================================================================================] - 0s 0us/step\n"
          ],
          "name": "stdout"
        }
      ]
    },
    {
      "cell_type": "code",
      "metadata": {
        "id": "r9z9guASSrTW",
        "colab_type": "code",
        "colab": {
          "base_uri": "https://localhost:8080/",
          "height": 204
        },
        "outputId": "4fe39af5-9d62-4a79-d64a-f0c2983e8f48"
      },
      "source": [
        "train.head()"
      ],
      "execution_count": 9,
      "outputs": [
        {
          "output_type": "execute_result",
          "data": {
            "text/html": [
              "<div>\n",
              "<style scoped>\n",
              "    .dataframe tbody tr th:only-of-type {\n",
              "        vertical-align: middle;\n",
              "    }\n",
              "\n",
              "    .dataframe tbody tr th {\n",
              "        vertical-align: top;\n",
              "    }\n",
              "\n",
              "    .dataframe thead th {\n",
              "        text-align: right;\n",
              "    }\n",
              "</style>\n",
              "<table border=\"1\" class=\"dataframe\">\n",
              "  <thead>\n",
              "    <tr style=\"text-align: right;\">\n",
              "      <th></th>\n",
              "      <th>SepalLength</th>\n",
              "      <th>SepalWidth</th>\n",
              "      <th>PetalLength</th>\n",
              "      <th>PetalWidth</th>\n",
              "      <th>Species</th>\n",
              "    </tr>\n",
              "  </thead>\n",
              "  <tbody>\n",
              "    <tr>\n",
              "      <th>0</th>\n",
              "      <td>6.4</td>\n",
              "      <td>2.8</td>\n",
              "      <td>5.6</td>\n",
              "      <td>2.2</td>\n",
              "      <td>2</td>\n",
              "    </tr>\n",
              "    <tr>\n",
              "      <th>1</th>\n",
              "      <td>5.0</td>\n",
              "      <td>2.3</td>\n",
              "      <td>3.3</td>\n",
              "      <td>1.0</td>\n",
              "      <td>1</td>\n",
              "    </tr>\n",
              "    <tr>\n",
              "      <th>2</th>\n",
              "      <td>4.9</td>\n",
              "      <td>2.5</td>\n",
              "      <td>4.5</td>\n",
              "      <td>1.7</td>\n",
              "      <td>2</td>\n",
              "    </tr>\n",
              "    <tr>\n",
              "      <th>3</th>\n",
              "      <td>4.9</td>\n",
              "      <td>3.1</td>\n",
              "      <td>1.5</td>\n",
              "      <td>0.1</td>\n",
              "      <td>0</td>\n",
              "    </tr>\n",
              "    <tr>\n",
              "      <th>4</th>\n",
              "      <td>5.7</td>\n",
              "      <td>3.8</td>\n",
              "      <td>1.7</td>\n",
              "      <td>0.3</td>\n",
              "      <td>0</td>\n",
              "    </tr>\n",
              "  </tbody>\n",
              "</table>\n",
              "</div>"
            ],
            "text/plain": [
              "   SepalLength  SepalWidth  PetalLength  PetalWidth  Species\n",
              "0          6.4         2.8          5.6         2.2        2\n",
              "1          5.0         2.3          3.3         1.0        1\n",
              "2          4.9         2.5          4.5         1.7        2\n",
              "3          4.9         3.1          1.5         0.1        0\n",
              "4          5.7         3.8          1.7         0.3        0"
            ]
          },
          "metadata": {
            "tags": []
          },
          "execution_count": 9
        }
      ]
    },
    {
      "cell_type": "code",
      "metadata": {
        "id": "uRlznPanS1Zx",
        "colab_type": "code",
        "colab": {
          "base_uri": "https://localhost:8080/",
          "height": 204
        },
        "outputId": "a4555348-bfb9-4088-d112-dc9ec89b391f"
      },
      "source": [
        "train_y = train.pop('Species')\n",
        "test_y = test.pop('Species')\n",
        "\n",
        "# The label column has now been removed from the features.\n",
        "train.head()"
      ],
      "execution_count": 10,
      "outputs": [
        {
          "output_type": "execute_result",
          "data": {
            "text/html": [
              "<div>\n",
              "<style scoped>\n",
              "    .dataframe tbody tr th:only-of-type {\n",
              "        vertical-align: middle;\n",
              "    }\n",
              "\n",
              "    .dataframe tbody tr th {\n",
              "        vertical-align: top;\n",
              "    }\n",
              "\n",
              "    .dataframe thead th {\n",
              "        text-align: right;\n",
              "    }\n",
              "</style>\n",
              "<table border=\"1\" class=\"dataframe\">\n",
              "  <thead>\n",
              "    <tr style=\"text-align: right;\">\n",
              "      <th></th>\n",
              "      <th>SepalLength</th>\n",
              "      <th>SepalWidth</th>\n",
              "      <th>PetalLength</th>\n",
              "      <th>PetalWidth</th>\n",
              "    </tr>\n",
              "  </thead>\n",
              "  <tbody>\n",
              "    <tr>\n",
              "      <th>0</th>\n",
              "      <td>6.4</td>\n",
              "      <td>2.8</td>\n",
              "      <td>5.6</td>\n",
              "      <td>2.2</td>\n",
              "    </tr>\n",
              "    <tr>\n",
              "      <th>1</th>\n",
              "      <td>5.0</td>\n",
              "      <td>2.3</td>\n",
              "      <td>3.3</td>\n",
              "      <td>1.0</td>\n",
              "    </tr>\n",
              "    <tr>\n",
              "      <th>2</th>\n",
              "      <td>4.9</td>\n",
              "      <td>2.5</td>\n",
              "      <td>4.5</td>\n",
              "      <td>1.7</td>\n",
              "    </tr>\n",
              "    <tr>\n",
              "      <th>3</th>\n",
              "      <td>4.9</td>\n",
              "      <td>3.1</td>\n",
              "      <td>1.5</td>\n",
              "      <td>0.1</td>\n",
              "    </tr>\n",
              "    <tr>\n",
              "      <th>4</th>\n",
              "      <td>5.7</td>\n",
              "      <td>3.8</td>\n",
              "      <td>1.7</td>\n",
              "      <td>0.3</td>\n",
              "    </tr>\n",
              "  </tbody>\n",
              "</table>\n",
              "</div>"
            ],
            "text/plain": [
              "   SepalLength  SepalWidth  PetalLength  PetalWidth\n",
              "0          6.4         2.8          5.6         2.2\n",
              "1          5.0         2.3          3.3         1.0\n",
              "2          4.9         2.5          4.5         1.7\n",
              "3          4.9         3.1          1.5         0.1\n",
              "4          5.7         3.8          1.7         0.3"
            ]
          },
          "metadata": {
            "tags": []
          },
          "execution_count": 10
        }
      ]
    },
    {
      "cell_type": "code",
      "metadata": {
        "id": "60T6znwES-lt",
        "colab_type": "code",
        "colab": {}
      },
      "source": [
        "def input_evaluation_set():\n",
        "    features = {'SepalLength': np.array([6.4, 5.0]),\n",
        "                'SepalWidth':  np.array([2.8, 2.3]),\n",
        "                'PetalLength': np.array([5.6, 3.3]),\n",
        "                'PetalWidth':  np.array([2.2, 1.0])}\n",
        "    labels = np.array([2, 1])\n",
        "    return features, labels"
      ],
      "execution_count": 11,
      "outputs": []
    },
    {
      "cell_type": "code",
      "metadata": {
        "id": "qum5hQCQTNxW",
        "colab_type": "code",
        "colab": {}
      },
      "source": [
        "def input_fn(features, labels, training=True, batch_size=256):\n",
        "    \"\"\"An input function for training or evaluating\"\"\"\n",
        "    # Convert the inputs to a Dataset.\n",
        "    dataset = tf.data.Dataset.from_tensor_slices((dict(features), labels))\n",
        "\n",
        "    # Shuffle and repeat if you are in training mode.\n",
        "    if training:\n",
        "        dataset = dataset.shuffle(1000).repeat()\n",
        "    \n",
        "    return dataset.batch(batch_size)\n"
      ],
      "execution_count": 12,
      "outputs": []
    },
    {
      "cell_type": "code",
      "metadata": {
        "id": "G9oPDFIMTZbn",
        "colab_type": "code",
        "colab": {}
      },
      "source": [
        "# Feature columns describe how to use the input.\n",
        "my_feature_columns = []\n",
        "for key in train.keys():\n",
        "    my_feature_columns.append(tf.feature_column.numeric_column(key=key))"
      ],
      "execution_count": 13,
      "outputs": []
    },
    {
      "cell_type": "code",
      "metadata": {
        "id": "vb0gYUgDTgfA",
        "colab_type": "code",
        "colab": {
          "base_uri": "https://localhost:8080/",
          "height": 190
        },
        "outputId": "72abf39e-6332-41fc-ecf9-714b95dafdcf"
      },
      "source": [
        "# Build a DNN with 2 hidden layers with 30 and 10 hidden nodes each.\n",
        "classifier = tf.estimator.DNNClassifier(\n",
        "    feature_columns=my_feature_columns,\n",
        "    # Two hidden layers of 30 and 10 nodes respectively.\n",
        "    hidden_units=[30, 10],\n",
        "    # The model must choose between 3 classes.\n",
        "    n_classes=3)"
      ],
      "execution_count": 14,
      "outputs": [
        {
          "output_type": "stream",
          "text": [
            "INFO:tensorflow:Using default config.\n",
            "WARNING:tensorflow:Using temporary folder as model directory: /tmp/tmphwplvfh2\n",
            "INFO:tensorflow:Using config: {'_model_dir': '/tmp/tmphwplvfh2', '_tf_random_seed': None, '_save_summary_steps': 100, '_save_checkpoints_steps': None, '_save_checkpoints_secs': 600, '_session_config': allow_soft_placement: true\n",
            "graph_options {\n",
            "  rewrite_options {\n",
            "    meta_optimizer_iterations: ONE\n",
            "  }\n",
            "}\n",
            ", '_keep_checkpoint_max': 5, '_keep_checkpoint_every_n_hours': 10000, '_log_step_count_steps': 100, '_train_distribute': None, '_device_fn': None, '_protocol': None, '_eval_distribute': None, '_experimental_distribute': None, '_experimental_max_worker_delay_secs': None, '_session_creation_timeout_secs': 7200, '_service': None, '_cluster_spec': ClusterSpec({}), '_task_type': 'worker', '_task_id': 0, '_global_id_in_cluster': 0, '_master': '', '_evaluation_master': '', '_is_chief': True, '_num_ps_replicas': 0, '_num_worker_replicas': 1}\n"
          ],
          "name": "stdout"
        }
      ]
    },
    {
      "cell_type": "code",
      "metadata": {
        "id": "NoIH_HeBTp9U",
        "colab_type": "code",
        "colab": {
          "base_uri": "https://localhost:8080/",
          "height": 1000
        },
        "outputId": "a8d2e536-1062-4658-8395-1bd4f6e21080"
      },
      "source": [
        "# Train the Model.\n",
        "classifier.train(\n",
        "    input_fn=lambda: input_fn(train, train_y, training=True),\n",
        "    steps=5000)"
      ],
      "execution_count": 15,
      "outputs": [
        {
          "output_type": "stream",
          "text": [
            "WARNING:tensorflow:From /usr/local/lib/python3.6/dist-packages/tensorflow/python/ops/resource_variable_ops.py:1666: calling BaseResourceVariable.__init__ (from tensorflow.python.ops.resource_variable_ops) with constraint is deprecated and will be removed in a future version.\n",
            "Instructions for updating:\n",
            "If using Keras pass *_constraint arguments to layers.\n",
            "WARNING:tensorflow:From /usr/local/lib/python3.6/dist-packages/tensorflow/python/training/training_util.py:236: Variable.initialized_value (from tensorflow.python.ops.variables) is deprecated and will be removed in a future version.\n",
            "Instructions for updating:\n",
            "Use Variable.read_value. Variables in 2.X are initialized automatically both in eager and graph (inside tf.defun) contexts.\n",
            "INFO:tensorflow:Calling model_fn.\n",
            "WARNING:tensorflow:Layer dnn is casting an input tensor from dtype float64 to the layer's dtype of float32, which is new behavior in TensorFlow 2.  The layer has dtype float32 because it's dtype defaults to floatx.\n",
            "\n",
            "If you intended to run this layer in float32, you can safely ignore this warning. If in doubt, this warning is likely only an issue if you are porting a TensorFlow 1.X model to TensorFlow 2.\n",
            "\n",
            "To change all layers to have dtype float64 by default, call `tf.keras.backend.set_floatx('float64')`. To change just this layer, pass dtype='float64' to the layer constructor. If you are the author of this layer, you can disable autocasting by passing autocast=False to the base Layer constructor.\n",
            "\n",
            "WARNING:tensorflow:From /usr/local/lib/python3.6/dist-packages/tensorflow/python/keras/optimizer_v2/adagrad.py:106: calling Constant.__init__ (from tensorflow.python.ops.init_ops) with dtype is deprecated and will be removed in a future version.\n",
            "Instructions for updating:\n",
            "Call initializer instance with the dtype argument instead of passing it to the constructor\n",
            "INFO:tensorflow:Done calling model_fn.\n",
            "INFO:tensorflow:Create CheckpointSaverHook.\n",
            "INFO:tensorflow:Graph was finalized.\n",
            "INFO:tensorflow:Running local_init_op.\n",
            "INFO:tensorflow:Done running local_init_op.\n",
            "INFO:tensorflow:Calling checkpoint listeners before saving checkpoint 0...\n",
            "INFO:tensorflow:Saving checkpoints for 0 into /tmp/tmphwplvfh2/model.ckpt.\n",
            "INFO:tensorflow:Calling checkpoint listeners after saving checkpoint 0...\n",
            "INFO:tensorflow:loss = 1.0153446, step = 0\n",
            "INFO:tensorflow:global_step/sec: 440.876\n",
            "INFO:tensorflow:loss = 0.82901233, step = 100 (0.230 sec)\n",
            "INFO:tensorflow:global_step/sec: 515.233\n",
            "INFO:tensorflow:loss = 0.77217007, step = 200 (0.192 sec)\n",
            "INFO:tensorflow:global_step/sec: 478.038\n",
            "INFO:tensorflow:loss = 0.74235934, step = 300 (0.211 sec)\n",
            "INFO:tensorflow:global_step/sec: 475.694\n",
            "INFO:tensorflow:loss = 0.7099216, step = 400 (0.208 sec)\n",
            "INFO:tensorflow:global_step/sec: 483.65\n",
            "INFO:tensorflow:loss = 0.66082543, step = 500 (0.209 sec)\n",
            "INFO:tensorflow:global_step/sec: 511.333\n",
            "INFO:tensorflow:loss = 0.63588935, step = 600 (0.193 sec)\n",
            "INFO:tensorflow:global_step/sec: 545.493\n",
            "INFO:tensorflow:loss = 0.59980667, step = 700 (0.188 sec)\n",
            "INFO:tensorflow:global_step/sec: 489.774\n",
            "INFO:tensorflow:loss = 0.58201176, step = 800 (0.202 sec)\n",
            "INFO:tensorflow:global_step/sec: 537.262\n",
            "INFO:tensorflow:loss = 0.5644746, step = 900 (0.185 sec)\n",
            "INFO:tensorflow:global_step/sec: 532.133\n",
            "INFO:tensorflow:loss = 0.5558161, step = 1000 (0.188 sec)\n",
            "INFO:tensorflow:global_step/sec: 511.003\n",
            "INFO:tensorflow:loss = 0.5432243, step = 1100 (0.195 sec)\n",
            "INFO:tensorflow:global_step/sec: 430.784\n",
            "INFO:tensorflow:loss = 0.5204154, step = 1200 (0.235 sec)\n",
            "INFO:tensorflow:global_step/sec: 489.916\n",
            "INFO:tensorflow:loss = 0.5097495, step = 1300 (0.203 sec)\n",
            "INFO:tensorflow:global_step/sec: 497.011\n",
            "INFO:tensorflow:loss = 0.49754837, step = 1400 (0.201 sec)\n",
            "INFO:tensorflow:global_step/sec: 520.088\n",
            "INFO:tensorflow:loss = 0.483514, step = 1500 (0.195 sec)\n",
            "INFO:tensorflow:global_step/sec: 517.077\n",
            "INFO:tensorflow:loss = 0.4703237, step = 1600 (0.190 sec)\n",
            "INFO:tensorflow:global_step/sec: 527.149\n",
            "INFO:tensorflow:loss = 0.46147302, step = 1700 (0.192 sec)\n",
            "INFO:tensorflow:global_step/sec: 528.697\n",
            "INFO:tensorflow:loss = 0.44273877, step = 1800 (0.189 sec)\n",
            "INFO:tensorflow:global_step/sec: 542.97\n",
            "INFO:tensorflow:loss = 0.42575824, step = 1900 (0.184 sec)\n",
            "INFO:tensorflow:global_step/sec: 566.739\n",
            "INFO:tensorflow:loss = 0.42782712, step = 2000 (0.177 sec)\n",
            "INFO:tensorflow:global_step/sec: 553.509\n",
            "INFO:tensorflow:loss = 0.4189635, step = 2100 (0.178 sec)\n",
            "INFO:tensorflow:global_step/sec: 539.824\n",
            "INFO:tensorflow:loss = 0.40895647, step = 2200 (0.186 sec)\n",
            "INFO:tensorflow:global_step/sec: 530.569\n",
            "INFO:tensorflow:loss = 0.40296304, step = 2300 (0.189 sec)\n",
            "INFO:tensorflow:global_step/sec: 566.75\n",
            "INFO:tensorflow:loss = 0.39706236, step = 2400 (0.176 sec)\n",
            "INFO:tensorflow:global_step/sec: 486.101\n",
            "INFO:tensorflow:loss = 0.37422818, step = 2500 (0.208 sec)\n",
            "INFO:tensorflow:global_step/sec: 531.371\n",
            "INFO:tensorflow:loss = 0.38505775, step = 2600 (0.185 sec)\n",
            "INFO:tensorflow:global_step/sec: 573.197\n",
            "INFO:tensorflow:loss = 0.37491006, step = 2700 (0.174 sec)\n",
            "INFO:tensorflow:global_step/sec: 582.143\n",
            "INFO:tensorflow:loss = 0.37386313, step = 2800 (0.172 sec)\n",
            "INFO:tensorflow:global_step/sec: 541.33\n",
            "INFO:tensorflow:loss = 0.36570916, step = 2900 (0.189 sec)\n",
            "INFO:tensorflow:global_step/sec: 570.479\n",
            "INFO:tensorflow:loss = 0.3522703, step = 3000 (0.175 sec)\n",
            "INFO:tensorflow:global_step/sec: 543.816\n",
            "INFO:tensorflow:loss = 0.35767597, step = 3100 (0.180 sec)\n",
            "INFO:tensorflow:global_step/sec: 527.267\n",
            "INFO:tensorflow:loss = 0.32853168, step = 3200 (0.193 sec)\n",
            "INFO:tensorflow:global_step/sec: 544.665\n",
            "INFO:tensorflow:loss = 0.3355028, step = 3300 (0.181 sec)\n",
            "INFO:tensorflow:global_step/sec: 492.028\n",
            "INFO:tensorflow:loss = 0.32972756, step = 3400 (0.205 sec)\n",
            "INFO:tensorflow:global_step/sec: 504.266\n",
            "INFO:tensorflow:loss = 0.33779365, step = 3500 (0.198 sec)\n",
            "INFO:tensorflow:global_step/sec: 529.735\n",
            "INFO:tensorflow:loss = 0.32453167, step = 3600 (0.189 sec)\n",
            "INFO:tensorflow:global_step/sec: 483.24\n",
            "INFO:tensorflow:loss = 0.32507804, step = 3700 (0.207 sec)\n",
            "INFO:tensorflow:global_step/sec: 550.115\n",
            "INFO:tensorflow:loss = 0.31602886, step = 3800 (0.181 sec)\n",
            "INFO:tensorflow:global_step/sec: 517.021\n",
            "INFO:tensorflow:loss = 0.31006342, step = 3900 (0.192 sec)\n",
            "INFO:tensorflow:global_step/sec: 558.677\n",
            "INFO:tensorflow:loss = 0.30907673, step = 4000 (0.181 sec)\n",
            "INFO:tensorflow:global_step/sec: 574.552\n",
            "INFO:tensorflow:loss = 0.30026144, step = 4100 (0.175 sec)\n",
            "INFO:tensorflow:global_step/sec: 507.968\n",
            "INFO:tensorflow:loss = 0.30246198, step = 4200 (0.197 sec)\n",
            "INFO:tensorflow:global_step/sec: 537.173\n",
            "INFO:tensorflow:loss = 0.281692, step = 4300 (0.183 sec)\n",
            "INFO:tensorflow:global_step/sec: 561.738\n",
            "INFO:tensorflow:loss = 0.28299254, step = 4400 (0.180 sec)\n",
            "INFO:tensorflow:global_step/sec: 497.347\n",
            "INFO:tensorflow:loss = 0.28697503, step = 4500 (0.199 sec)\n",
            "WARNING:tensorflow:It seems that global step (tf.train.get_global_step) has not been increased. Current value (could be stable): 4597 vs previous value: 4597. You could increase the global step by passing tf.train.get_global_step() to Optimizer.apply_gradients or Optimizer.minimize.\n",
            "INFO:tensorflow:global_step/sec: 428.699\n",
            "INFO:tensorflow:loss = 0.27672312, step = 4600 (0.234 sec)\n",
            "INFO:tensorflow:global_step/sec: 484.091\n",
            "INFO:tensorflow:loss = 0.28793842, step = 4700 (0.206 sec)\n",
            "INFO:tensorflow:global_step/sec: 505.352\n",
            "INFO:tensorflow:loss = 0.278764, step = 4800 (0.198 sec)\n",
            "INFO:tensorflow:global_step/sec: 492.519\n",
            "INFO:tensorflow:loss = 0.27810174, step = 4900 (0.204 sec)\n",
            "INFO:tensorflow:Calling checkpoint listeners before saving checkpoint 5000...\n",
            "INFO:tensorflow:Saving checkpoints for 5000 into /tmp/tmphwplvfh2/model.ckpt.\n",
            "INFO:tensorflow:Calling checkpoint listeners after saving checkpoint 5000...\n",
            "INFO:tensorflow:Loss for final step: 0.26769447.\n"
          ],
          "name": "stdout"
        },
        {
          "output_type": "execute_result",
          "data": {
            "text/plain": [
              "<tensorflow_estimator.python.estimator.canned.dnn.DNNClassifierV2 at 0x7fe4253de320>"
            ]
          },
          "metadata": {
            "tags": []
          },
          "execution_count": 15
        }
      ]
    },
    {
      "cell_type": "code",
      "metadata": {
        "id": "SFJeIh6ST-M3",
        "colab_type": "code",
        "colab": {
          "base_uri": "https://localhost:8080/",
          "height": 377
        },
        "outputId": "bf9b7f8b-6c87-42e8-be99-0af61651b062"
      },
      "source": [
        "eval_result = classifier.evaluate(\n",
        "    input_fn=lambda: input_fn(test, test_y, training=False))\n",
        "\n",
        "print('\\nTest set accuracy: {accuracy:0.3f}\\n'.format(**eval_result))"
      ],
      "execution_count": 16,
      "outputs": [
        {
          "output_type": "stream",
          "text": [
            "INFO:tensorflow:Calling model_fn.\n",
            "WARNING:tensorflow:Layer dnn is casting an input tensor from dtype float64 to the layer's dtype of float32, which is new behavior in TensorFlow 2.  The layer has dtype float32 because it's dtype defaults to floatx.\n",
            "\n",
            "If you intended to run this layer in float32, you can safely ignore this warning. If in doubt, this warning is likely only an issue if you are porting a TensorFlow 1.X model to TensorFlow 2.\n",
            "\n",
            "To change all layers to have dtype float64 by default, call `tf.keras.backend.set_floatx('float64')`. To change just this layer, pass dtype='float64' to the layer constructor. If you are the author of this layer, you can disable autocasting by passing autocast=False to the base Layer constructor.\n",
            "\n",
            "INFO:tensorflow:Done calling model_fn.\n",
            "INFO:tensorflow:Starting evaluation at 2020-06-19T02:02:16Z\n",
            "INFO:tensorflow:Graph was finalized.\n",
            "INFO:tensorflow:Restoring parameters from /tmp/tmphwplvfh2/model.ckpt-5000\n",
            "INFO:tensorflow:Running local_init_op.\n",
            "INFO:tensorflow:Done running local_init_op.\n",
            "INFO:tensorflow:Inference Time : 0.30164s\n",
            "INFO:tensorflow:Finished evaluation at 2020-06-19-02:02:16\n",
            "INFO:tensorflow:Saving dict for global step 5000: accuracy = 0.96666664, average_loss = 0.30837744, global_step = 5000, loss = 0.30837744\n",
            "INFO:tensorflow:Saving 'checkpoint_path' summary for global step 5000: /tmp/tmphwplvfh2/model.ckpt-5000\n",
            "\n",
            "Test set accuracy: 0.967\n",
            "\n"
          ],
          "name": "stdout"
        }
      ]
    },
    {
      "cell_type": "code",
      "metadata": {
        "id": "0jLKm2zhUNKZ",
        "colab_type": "code",
        "colab": {}
      },
      "source": [
        "# Generate predictions from the model\n",
        "expected = ['Setosa', 'Versicolor', 'Virginica']\n",
        "predict_x = {\n",
        "    'SepalLength': [5.1, 5.9, 6.9],\n",
        "    'SepalWidth': [3.3, 3.0, 3.1],\n",
        "    'PetalLength': [1.7, 4.2, 5.4],\n",
        "    'PetalWidth': [0.5, 1.5, 2.1],\n",
        "}\n",
        "\n",
        "def input_fn(features, batch_size=256):\n",
        "    \"\"\"An input function for prediction.\"\"\"\n",
        "    # Convert the inputs to a Dataset without labels.\n",
        "    return tf.data.Dataset.from_tensor_slices(dict(features)).batch(batch_size)\n",
        "\n",
        "predictions = classifier.predict(\n",
        "    input_fn=lambda: input_fn(predict_x))"
      ],
      "execution_count": 18,
      "outputs": []
    },
    {
      "cell_type": "code",
      "metadata": {
        "id": "MIvJegEcUS78",
        "colab_type": "code",
        "colab": {
          "base_uri": "https://localhost:8080/",
          "height": 170
        },
        "outputId": "ec6c40b0-80f2-4d2b-d42e-aa87d6216793"
      },
      "source": [
        "for pred_dict, expec in zip(predictions, expected):\n",
        "    class_id = pred_dict['class_ids'][0]\n",
        "    probability = pred_dict['probabilities'][class_id]\n",
        "\n",
        "    print('Prediction is \"{}\" ({:.1f}%), expected \"{}\"'.format(\n",
        "        SPECIES[class_id], 100 * probability, expec))"
      ],
      "execution_count": 19,
      "outputs": [
        {
          "output_type": "stream",
          "text": [
            "INFO:tensorflow:Calling model_fn.\n",
            "INFO:tensorflow:Done calling model_fn.\n",
            "INFO:tensorflow:Graph was finalized.\n",
            "INFO:tensorflow:Restoring parameters from /tmp/tmphwplvfh2/model.ckpt-5000\n",
            "INFO:tensorflow:Running local_init_op.\n",
            "INFO:tensorflow:Done running local_init_op.\n",
            "Prediction is \"Setosa\" (84.6%), expected \"Setosa\"\n",
            "Prediction is \"Versicolor\" (65.5%), expected \"Versicolor\"\n",
            "Prediction is \"Virginica\" (70.0%), expected \"Virginica\"\n"
          ],
          "name": "stdout"
        }
      ]
    },
    {
      "cell_type": "code",
      "metadata": {
        "id": "AAaCDwy1Uk9o",
        "colab_type": "code",
        "colab": {}
      },
      "source": [
        ""
      ],
      "execution_count": null,
      "outputs": []
    }
  ]
}